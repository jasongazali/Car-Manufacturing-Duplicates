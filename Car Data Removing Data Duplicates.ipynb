{
 "cells": [
  {
   "cell_type": "code",
   "execution_count": 1,
   "id": "f7f4911b",
   "metadata": {},
   "outputs": [],
   "source": [
    "import pandas as pd\n",
    "import numpy as np\n",
    "import seaborn as sns\n",
    "import matplotlib.pyplot as plt\n",
    "%matplotlib inline \n",
    "sns.set(color_codes=True)"
   ]
  },
  {
   "cell_type": "code",
   "execution_count": 2,
   "id": "374684a4",
   "metadata": {},
   "outputs": [
    {
     "data": {
      "text/html": [
       "<div>\n",
       "<style scoped>\n",
       "    .dataframe tbody tr th:only-of-type {\n",
       "        vertical-align: middle;\n",
       "    }\n",
       "\n",
       "    .dataframe tbody tr th {\n",
       "        vertical-align: top;\n",
       "    }\n",
       "\n",
       "    .dataframe thead th {\n",
       "        text-align: right;\n",
       "    }\n",
       "</style>\n",
       "<table border=\"1\" class=\"dataframe\">\n",
       "  <thead>\n",
       "    <tr style=\"text-align: right;\">\n",
       "      <th></th>\n",
       "      <th>Number</th>\n",
       "      <th>Registration</th>\n",
       "      <th>Details</th>\n",
       "      <th>Product</th>\n",
       "      <th>Odometer</th>\n",
       "      <th>Distance</th>\n",
       "      <th>Unit</th>\n",
       "      <th>MPG</th>\n",
       "    </tr>\n",
       "  </thead>\n",
       "  <tbody>\n",
       "    <tr>\n",
       "      <th>0</th>\n",
       "      <td>NaN</td>\n",
       "      <td>NaN</td>\n",
       "      <td>NaN</td>\n",
       "      <td>NaN</td>\n",
       "      <td>NaN</td>\n",
       "      <td>NaN</td>\n",
       "      <td>NaN</td>\n",
       "      <td>NaN</td>\n",
       "    </tr>\n",
       "    <tr>\n",
       "      <th>1</th>\n",
       "      <td>0001</td>\n",
       "      <td>U1</td>\n",
       "      <td>Jaguar XJL Portfolio V6 D Limousine</td>\n",
       "      <td>Diesel</td>\n",
       "      <td>66089.0</td>\n",
       "      <td>4140.0</td>\n",
       "      <td>Miles</td>\n",
       "      <td>24.1</td>\n",
       "    </tr>\n",
       "    <tr>\n",
       "      <th>2</th>\n",
       "      <td>0012</td>\n",
       "      <td>FL65FBA</td>\n",
       "      <td>Vauxhall CORSA  CDTI Car</td>\n",
       "      <td>Diesel</td>\n",
       "      <td>6075.0</td>\n",
       "      <td>1958.0</td>\n",
       "      <td>Miles</td>\n",
       "      <td>45.1</td>\n",
       "    </tr>\n",
       "  </tbody>\n",
       "</table>\n",
       "</div>"
      ],
      "text/plain": [
       "  Number Registration                              Details Product  Odometer  \\\n",
       "0    NaN          NaN                                  NaN     NaN       NaN   \n",
       "1   0001           U1  Jaguar XJL Portfolio V6 D Limousine  Diesel   66089.0   \n",
       "2   0012      FL65FBA             Vauxhall CORSA  CDTI Car  Diesel    6075.0   \n",
       "\n",
       "   Distance   Unit   MPG  \n",
       "0       NaN    NaN   NaN  \n",
       "1    4140.0  Miles  24.1  \n",
       "2    1958.0  Miles  45.1  "
      ]
     },
     "execution_count": 2,
     "metadata": {},
     "output_type": "execute_result"
    }
   ],
   "source": [
    "dataframe = pd.read_csv('2018-19-4.csv')\n",
    "dataframe.head(3)"
   ]
  },
  {
   "cell_type": "code",
   "execution_count": 3,
   "id": "29d17475",
   "metadata": {},
   "outputs": [
    {
     "data": {
      "text/html": [
       "<div>\n",
       "<style scoped>\n",
       "    .dataframe tbody tr th:only-of-type {\n",
       "        vertical-align: middle;\n",
       "    }\n",
       "\n",
       "    .dataframe tbody tr th {\n",
       "        vertical-align: top;\n",
       "    }\n",
       "\n",
       "    .dataframe thead th {\n",
       "        text-align: right;\n",
       "    }\n",
       "</style>\n",
       "<table border=\"1\" class=\"dataframe\">\n",
       "  <thead>\n",
       "    <tr style=\"text-align: right;\">\n",
       "      <th></th>\n",
       "      <th>Number</th>\n",
       "      <th>Registration</th>\n",
       "      <th>Details</th>\n",
       "      <th>Product</th>\n",
       "      <th>Odometer</th>\n",
       "      <th>Distance</th>\n",
       "      <th>Unit</th>\n",
       "      <th>MPG</th>\n",
       "    </tr>\n",
       "  </thead>\n",
       "  <tbody>\n",
       "    <tr>\n",
       "      <th>0</th>\n",
       "      <td>NaN</td>\n",
       "      <td>NaN</td>\n",
       "      <td>NaN</td>\n",
       "      <td>NaN</td>\n",
       "      <td>NaN</td>\n",
       "      <td>NaN</td>\n",
       "      <td>NaN</td>\n",
       "      <td>NaN</td>\n",
       "    </tr>\n",
       "    <tr>\n",
       "      <th>1</th>\n",
       "      <td>0001</td>\n",
       "      <td>U1</td>\n",
       "      <td>Jaguar XJL Portfolio V6 D Limousine</td>\n",
       "      <td>Diesel</td>\n",
       "      <td>66089.0</td>\n",
       "      <td>4140.0</td>\n",
       "      <td>Miles</td>\n",
       "      <td>24.10</td>\n",
       "    </tr>\n",
       "    <tr>\n",
       "      <th>2</th>\n",
       "      <td>0012</td>\n",
       "      <td>FL65FBA</td>\n",
       "      <td>Vauxhall CORSA  CDTI Car</td>\n",
       "      <td>Diesel</td>\n",
       "      <td>6075.0</td>\n",
       "      <td>1958.0</td>\n",
       "      <td>Miles</td>\n",
       "      <td>45.10</td>\n",
       "    </tr>\n",
       "    <tr>\n",
       "      <th>3</th>\n",
       "      <td>0013</td>\n",
       "      <td>MJ16XMY</td>\n",
       "      <td>Vauxhall Mokka 4x4 Utility Vehicle</td>\n",
       "      <td>Diesel</td>\n",
       "      <td>21650.0</td>\n",
       "      <td>5060.0</td>\n",
       "      <td>Miles</td>\n",
       "      <td>43.73</td>\n",
       "    </tr>\n",
       "    <tr>\n",
       "      <th>4</th>\n",
       "      <td>0018</td>\n",
       "      <td>YD16NAK</td>\n",
       "      <td>Peugeot 308 Car Car</td>\n",
       "      <td>Diesel</td>\n",
       "      <td>64740.0</td>\n",
       "      <td>42009.0</td>\n",
       "      <td>Miles</td>\n",
       "      <td>53.23</td>\n",
       "    </tr>\n",
       "    <tr>\n",
       "      <th>5</th>\n",
       "      <td>0020</td>\n",
       "      <td>YH17VCF</td>\n",
       "      <td>Peugeot Expert Combi 9 seat MPV</td>\n",
       "      <td>Diesel</td>\n",
       "      <td>19023.0</td>\n",
       "      <td>8934.0</td>\n",
       "      <td>Miles</td>\n",
       "      <td>36.90</td>\n",
       "    </tr>\n",
       "    <tr>\n",
       "      <th>6</th>\n",
       "      <td>0080</td>\n",
       "      <td>YC59GZB</td>\n",
       "      <td>Ford Kuga Zetec 4x4 Utility Vehicle</td>\n",
       "      <td>Diesel</td>\n",
       "      <td>72335.0</td>\n",
       "      <td>4113.0</td>\n",
       "      <td>Miles</td>\n",
       "      <td>38.37</td>\n",
       "    </tr>\n",
       "  </tbody>\n",
       "</table>\n",
       "</div>"
      ],
      "text/plain": [
       "  Number Registration                              Details Product  Odometer  \\\n",
       "0    NaN          NaN                                  NaN     NaN       NaN   \n",
       "1   0001           U1  Jaguar XJL Portfolio V6 D Limousine  Diesel   66089.0   \n",
       "2   0012      FL65FBA             Vauxhall CORSA  CDTI Car  Diesel    6075.0   \n",
       "3   0013      MJ16XMY   Vauxhall Mokka 4x4 Utility Vehicle  Diesel   21650.0   \n",
       "4   0018      YD16NAK                  Peugeot 308 Car Car  Diesel   64740.0   \n",
       "5   0020      YH17VCF      Peugeot Expert Combi 9 seat MPV  Diesel   19023.0   \n",
       "6   0080      YC59GZB  Ford Kuga Zetec 4x4 Utility Vehicle  Diesel   72335.0   \n",
       "\n",
       "   Distance   Unit    MPG  \n",
       "0       NaN    NaN    NaN  \n",
       "1    4140.0  Miles  24.10  \n",
       "2    1958.0  Miles  45.10  \n",
       "3    5060.0  Miles  43.73  \n",
       "4   42009.0  Miles  53.23  \n",
       "5    8934.0  Miles  36.90  \n",
       "6    4113.0  Miles  38.37  "
      ]
     },
     "execution_count": 3,
     "metadata": {},
     "output_type": "execute_result"
    }
   ],
   "source": [
    "dataframe.head(7)"
   ]
  },
  {
   "cell_type": "code",
   "execution_count": 4,
   "id": "857c09ee",
   "metadata": {},
   "outputs": [
    {
     "data": {
      "text/html": [
       "<div>\n",
       "<style scoped>\n",
       "    .dataframe tbody tr th:only-of-type {\n",
       "        vertical-align: middle;\n",
       "    }\n",
       "\n",
       "    .dataframe tbody tr th {\n",
       "        vertical-align: top;\n",
       "    }\n",
       "\n",
       "    .dataframe thead th {\n",
       "        text-align: right;\n",
       "    }\n",
       "</style>\n",
       "<table border=\"1\" class=\"dataframe\">\n",
       "  <thead>\n",
       "    <tr style=\"text-align: right;\">\n",
       "      <th></th>\n",
       "      <th>Number</th>\n",
       "      <th>Registration</th>\n",
       "      <th>Details</th>\n",
       "      <th>Product</th>\n",
       "      <th>Odometer</th>\n",
       "      <th>Distance</th>\n",
       "      <th>Unit</th>\n",
       "      <th>MPG</th>\n",
       "    </tr>\n",
       "  </thead>\n",
       "  <tbody>\n",
       "    <tr>\n",
       "      <th>735</th>\n",
       "      <td>4613</td>\n",
       "      <td>PO13AYT</td>\n",
       "      <td>Renault Kerax Hookloader</td>\n",
       "      <td>Diesel</td>\n",
       "      <td>184143.0</td>\n",
       "      <td>23346.0</td>\n",
       "      <td>Kilometres</td>\n",
       "      <td>5.19</td>\n",
       "    </tr>\n",
       "    <tr>\n",
       "      <th>736</th>\n",
       "      <td>4614</td>\n",
       "      <td>PO13AYV</td>\n",
       "      <td>Renault Kerax Hookloader</td>\n",
       "      <td>Diesel</td>\n",
       "      <td>167764.0</td>\n",
       "      <td>17721.0</td>\n",
       "      <td>Kilometres</td>\n",
       "      <td>5.05</td>\n",
       "    </tr>\n",
       "    <tr>\n",
       "      <th>737</th>\n",
       "      <td>4615</td>\n",
       "      <td>YE16YPP</td>\n",
       "      <td>Mercedes Arocs Hookloader</td>\n",
       "      <td>Diesel</td>\n",
       "      <td>80191.0</td>\n",
       "      <td>29244.0</td>\n",
       "      <td>Kilometres</td>\n",
       "      <td>5.39</td>\n",
       "    </tr>\n",
       "    <tr>\n",
       "      <th>738</th>\n",
       "      <td>4616</td>\n",
       "      <td>YE16YPR</td>\n",
       "      <td>Mercedes Arocs Hookloader</td>\n",
       "      <td>Diesel</td>\n",
       "      <td>73568.0</td>\n",
       "      <td>24100.0</td>\n",
       "      <td>Kilometres</td>\n",
       "      <td>5.23</td>\n",
       "    </tr>\n",
       "    <tr>\n",
       "      <th>739</th>\n",
       "      <td>4617</td>\n",
       "      <td>YE16YPT</td>\n",
       "      <td>Mercedes Arocs Hookloader</td>\n",
       "      <td>Diesel</td>\n",
       "      <td>61859.0</td>\n",
       "      <td>20248.0</td>\n",
       "      <td>Kilometres</td>\n",
       "      <td>5.16</td>\n",
       "    </tr>\n",
       "  </tbody>\n",
       "</table>\n",
       "</div>"
      ],
      "text/plain": [
       "    Number Registration                    Details Product  Odometer  \\\n",
       "735   4613      PO13AYT   Renault Kerax Hookloader  Diesel  184143.0   \n",
       "736   4614      PO13AYV   Renault Kerax Hookloader  Diesel  167764.0   \n",
       "737   4615      YE16YPP  Mercedes Arocs Hookloader  Diesel   80191.0   \n",
       "738   4616      YE16YPR  Mercedes Arocs Hookloader  Diesel   73568.0   \n",
       "739   4617      YE16YPT  Mercedes Arocs Hookloader  Diesel   61859.0   \n",
       "\n",
       "     Distance        Unit   MPG  \n",
       "735   23346.0  Kilometres  5.19  \n",
       "736   17721.0  Kilometres  5.05  \n",
       "737   29244.0  Kilometres  5.39  \n",
       "738   24100.0  Kilometres  5.23  \n",
       "739   20248.0  Kilometres  5.16  "
      ]
     },
     "execution_count": 4,
     "metadata": {},
     "output_type": "execute_result"
    }
   ],
   "source": [
    "dataframe.tail()"
   ]
  },
  {
   "cell_type": "code",
   "execution_count": 5,
   "id": "9f71db78",
   "metadata": {},
   "outputs": [
    {
     "data": {
      "text/plain": [
       "Number           object\n",
       "Registration     object\n",
       "Details          object\n",
       "Product          object\n",
       "Odometer        float64\n",
       "Distance        float64\n",
       "Unit             object\n",
       "MPG             float64\n",
       "dtype: object"
      ]
     },
     "execution_count": 5,
     "metadata": {},
     "output_type": "execute_result"
    }
   ],
   "source": [
    "dataframe.dtypes"
   ]
  },
  {
   "cell_type": "code",
   "execution_count": 6,
   "id": "8eaae580",
   "metadata": {},
   "outputs": [
    {
     "data": {
      "text/plain": [
       "(740, 8)"
      ]
     },
     "execution_count": 6,
     "metadata": {},
     "output_type": "execute_result"
    }
   ],
   "source": [
    "dataframe.shape"
   ]
  },
  {
   "cell_type": "code",
   "execution_count": 7,
   "id": "3a564f33",
   "metadata": {},
   "outputs": [],
   "source": [
    "duplicate_rows_df = dataframe[dataframe.duplicated()]"
   ]
  },
  {
   "cell_type": "code",
   "execution_count": 8,
   "id": "98dcfcdd",
   "metadata": {},
   "outputs": [
    {
     "ename": "AttributeError",
     "evalue": "'str' object has no attribute 'duplicate_rows_df'",
     "output_type": "error",
     "traceback": [
      "\u001b[0;31m---------------------------------------------------------------------------\u001b[0m",
      "\u001b[0;31mAttributeError\u001b[0m                            Traceback (most recent call last)",
      "\u001b[0;32m<ipython-input-8-f784db17b708>\u001b[0m in \u001b[0;36m<module>\u001b[0;34m\u001b[0m\n\u001b[0;32m----> 1\u001b[0;31m \u001b[0mprint\u001b[0m\u001b[0;34m(\u001b[0m\u001b[0;34m\"Number od duplicate rows\"\u001b[0m\u001b[0;34m.\u001b[0m \u001b[0mduplicate_rows_df\u001b[0m\u001b[0;34m.\u001b[0m\u001b[0mshape\u001b[0m\u001b[0;34m)\u001b[0m\u001b[0;34m\u001b[0m\u001b[0;34m\u001b[0m\u001b[0m\n\u001b[0m",
      "\u001b[0;31mAttributeError\u001b[0m: 'str' object has no attribute 'duplicate_rows_df'"
     ]
    }
   ],
   "source": [
    "print(\"Number od duplicate rows\". duplicate_rows_df.shape)"
   ]
  },
  {
   "cell_type": "code",
   "execution_count": 9,
   "id": "92b5bbd5",
   "metadata": {},
   "outputs": [
    {
     "data": {
      "text/html": [
       "<div>\n",
       "<style scoped>\n",
       "    .dataframe tbody tr th:only-of-type {\n",
       "        vertical-align: middle;\n",
       "    }\n",
       "\n",
       "    .dataframe tbody tr th {\n",
       "        vertical-align: top;\n",
       "    }\n",
       "\n",
       "    .dataframe thead th {\n",
       "        text-align: right;\n",
       "    }\n",
       "</style>\n",
       "<table border=\"1\" class=\"dataframe\">\n",
       "  <thead>\n",
       "    <tr style=\"text-align: right;\">\n",
       "      <th></th>\n",
       "      <th>Number</th>\n",
       "      <th>Registration</th>\n",
       "      <th>Details</th>\n",
       "      <th>Product</th>\n",
       "      <th>Odometer</th>\n",
       "      <th>Distance</th>\n",
       "      <th>Unit</th>\n",
       "      <th>MPG</th>\n",
       "    </tr>\n",
       "  </thead>\n",
       "  <tbody>\n",
       "  </tbody>\n",
       "</table>\n",
       "</div>"
      ],
      "text/plain": [
       "Empty DataFrame\n",
       "Columns: [Number, Registration, Details, Product, Odometer, Distance, Unit, MPG]\n",
       "Index: []"
      ]
     },
     "execution_count": 9,
     "metadata": {},
     "output_type": "execute_result"
    }
   ],
   "source": [
    "duplicate_rows_df"
   ]
  },
  {
   "cell_type": "code",
   "execution_count": 10,
   "id": "35a442b6",
   "metadata": {},
   "outputs": [],
   "source": [
    "#No duplicates"
   ]
  },
  {
   "cell_type": "code",
   "execution_count": 11,
   "id": "13075de0",
   "metadata": {},
   "outputs": [
    {
     "data": {
      "text/plain": [
       "Number          739\n",
       "Registration    739\n",
       "Details         739\n",
       "Product         739\n",
       "Odometer        739\n",
       "Distance        739\n",
       "Unit            739\n",
       "MPG             739\n",
       "dtype: int64"
      ]
     },
     "execution_count": 11,
     "metadata": {},
     "output_type": "execute_result"
    }
   ],
   "source": [
    "dataframe.count()"
   ]
  },
  {
   "cell_type": "code",
   "execution_count": 12,
   "id": "b34a9915",
   "metadata": {},
   "outputs": [
    {
     "data": {
      "text/html": [
       "<div>\n",
       "<style scoped>\n",
       "    .dataframe tbody tr th:only-of-type {\n",
       "        vertical-align: middle;\n",
       "    }\n",
       "\n",
       "    .dataframe tbody tr th {\n",
       "        vertical-align: top;\n",
       "    }\n",
       "\n",
       "    .dataframe thead th {\n",
       "        text-align: right;\n",
       "    }\n",
       "</style>\n",
       "<table border=\"1\" class=\"dataframe\">\n",
       "  <thead>\n",
       "    <tr style=\"text-align: right;\">\n",
       "      <th></th>\n",
       "      <th>Number</th>\n",
       "      <th>Registration</th>\n",
       "      <th>Details</th>\n",
       "      <th>Product</th>\n",
       "      <th>Odometer</th>\n",
       "      <th>Distance</th>\n",
       "      <th>Unit</th>\n",
       "      <th>MPG</th>\n",
       "    </tr>\n",
       "  </thead>\n",
       "  <tbody>\n",
       "    <tr>\n",
       "      <th>0</th>\n",
       "      <td>NaN</td>\n",
       "      <td>NaN</td>\n",
       "      <td>NaN</td>\n",
       "      <td>NaN</td>\n",
       "      <td>NaN</td>\n",
       "      <td>NaN</td>\n",
       "      <td>NaN</td>\n",
       "      <td>NaN</td>\n",
       "    </tr>\n",
       "    <tr>\n",
       "      <th>1</th>\n",
       "      <td>0001</td>\n",
       "      <td>U1</td>\n",
       "      <td>Jaguar XJL Portfolio V6 D Limousine</td>\n",
       "      <td>Diesel</td>\n",
       "      <td>66089.0</td>\n",
       "      <td>4140.0</td>\n",
       "      <td>Miles</td>\n",
       "      <td>24.10</td>\n",
       "    </tr>\n",
       "    <tr>\n",
       "      <th>2</th>\n",
       "      <td>0012</td>\n",
       "      <td>FL65FBA</td>\n",
       "      <td>Vauxhall CORSA  CDTI Car</td>\n",
       "      <td>Diesel</td>\n",
       "      <td>6075.0</td>\n",
       "      <td>1958.0</td>\n",
       "      <td>Miles</td>\n",
       "      <td>45.10</td>\n",
       "    </tr>\n",
       "    <tr>\n",
       "      <th>3</th>\n",
       "      <td>0013</td>\n",
       "      <td>MJ16XMY</td>\n",
       "      <td>Vauxhall Mokka 4x4 Utility Vehicle</td>\n",
       "      <td>Diesel</td>\n",
       "      <td>21650.0</td>\n",
       "      <td>5060.0</td>\n",
       "      <td>Miles</td>\n",
       "      <td>43.73</td>\n",
       "    </tr>\n",
       "    <tr>\n",
       "      <th>4</th>\n",
       "      <td>0018</td>\n",
       "      <td>YD16NAK</td>\n",
       "      <td>Peugeot 308 Car Car</td>\n",
       "      <td>Diesel</td>\n",
       "      <td>64740.0</td>\n",
       "      <td>42009.0</td>\n",
       "      <td>Miles</td>\n",
       "      <td>53.23</td>\n",
       "    </tr>\n",
       "    <tr>\n",
       "      <th>...</th>\n",
       "      <td>...</td>\n",
       "      <td>...</td>\n",
       "      <td>...</td>\n",
       "      <td>...</td>\n",
       "      <td>...</td>\n",
       "      <td>...</td>\n",
       "      <td>...</td>\n",
       "      <td>...</td>\n",
       "    </tr>\n",
       "    <tr>\n",
       "      <th>735</th>\n",
       "      <td>4613</td>\n",
       "      <td>PO13AYT</td>\n",
       "      <td>Renault Kerax Hookloader</td>\n",
       "      <td>Diesel</td>\n",
       "      <td>184143.0</td>\n",
       "      <td>23346.0</td>\n",
       "      <td>Kilometres</td>\n",
       "      <td>5.19</td>\n",
       "    </tr>\n",
       "    <tr>\n",
       "      <th>736</th>\n",
       "      <td>4614</td>\n",
       "      <td>PO13AYV</td>\n",
       "      <td>Renault Kerax Hookloader</td>\n",
       "      <td>Diesel</td>\n",
       "      <td>167764.0</td>\n",
       "      <td>17721.0</td>\n",
       "      <td>Kilometres</td>\n",
       "      <td>5.05</td>\n",
       "    </tr>\n",
       "    <tr>\n",
       "      <th>737</th>\n",
       "      <td>4615</td>\n",
       "      <td>YE16YPP</td>\n",
       "      <td>Mercedes Arocs Hookloader</td>\n",
       "      <td>Diesel</td>\n",
       "      <td>80191.0</td>\n",
       "      <td>29244.0</td>\n",
       "      <td>Kilometres</td>\n",
       "      <td>5.39</td>\n",
       "    </tr>\n",
       "    <tr>\n",
       "      <th>738</th>\n",
       "      <td>4616</td>\n",
       "      <td>YE16YPR</td>\n",
       "      <td>Mercedes Arocs Hookloader</td>\n",
       "      <td>Diesel</td>\n",
       "      <td>73568.0</td>\n",
       "      <td>24100.0</td>\n",
       "      <td>Kilometres</td>\n",
       "      <td>5.23</td>\n",
       "    </tr>\n",
       "    <tr>\n",
       "      <th>739</th>\n",
       "      <td>4617</td>\n",
       "      <td>YE16YPT</td>\n",
       "      <td>Mercedes Arocs Hookloader</td>\n",
       "      <td>Diesel</td>\n",
       "      <td>61859.0</td>\n",
       "      <td>20248.0</td>\n",
       "      <td>Kilometres</td>\n",
       "      <td>5.16</td>\n",
       "    </tr>\n",
       "  </tbody>\n",
       "</table>\n",
       "<p>740 rows × 8 columns</p>\n",
       "</div>"
      ],
      "text/plain": [
       "    Number Registration                              Details Product  \\\n",
       "0      NaN          NaN                                  NaN     NaN   \n",
       "1     0001           U1  Jaguar XJL Portfolio V6 D Limousine  Diesel   \n",
       "2     0012      FL65FBA             Vauxhall CORSA  CDTI Car  Diesel   \n",
       "3     0013      MJ16XMY   Vauxhall Mokka 4x4 Utility Vehicle  Diesel   \n",
       "4     0018      YD16NAK                  Peugeot 308 Car Car  Diesel   \n",
       "..     ...          ...                                  ...     ...   \n",
       "735   4613      PO13AYT             Renault Kerax Hookloader  Diesel   \n",
       "736   4614      PO13AYV             Renault Kerax Hookloader  Diesel   \n",
       "737   4615      YE16YPP            Mercedes Arocs Hookloader  Diesel   \n",
       "738   4616      YE16YPR            Mercedes Arocs Hookloader  Diesel   \n",
       "739   4617      YE16YPT            Mercedes Arocs Hookloader  Diesel   \n",
       "\n",
       "     Odometer  Distance        Unit    MPG  \n",
       "0         NaN       NaN         NaN    NaN  \n",
       "1     66089.0    4140.0       Miles  24.10  \n",
       "2      6075.0    1958.0       Miles  45.10  \n",
       "3     21650.0    5060.0       Miles  43.73  \n",
       "4     64740.0   42009.0       Miles  53.23  \n",
       "..        ...       ...         ...    ...  \n",
       "735  184143.0   23346.0  Kilometres   5.19  \n",
       "736  167764.0   17721.0  Kilometres   5.05  \n",
       "737   80191.0   29244.0  Kilometres   5.39  \n",
       "738   73568.0   24100.0  Kilometres   5.23  \n",
       "739   61859.0   20248.0  Kilometres   5.16  \n",
       "\n",
       "[740 rows x 8 columns]"
      ]
     },
     "execution_count": 12,
     "metadata": {},
     "output_type": "execute_result"
    }
   ],
   "source": [
    "dropped_df = dataframe.drop_duplicates()\n",
    "dropped_df"
   ]
  },
  {
   "cell_type": "code",
   "execution_count": 13,
   "id": "ea446d2a",
   "metadata": {},
   "outputs": [
    {
     "name": "stdout",
     "output_type": "stream",
     "text": [
      "Number          1\n",
      "Registration    1\n",
      "Details         1\n",
      "Product         1\n",
      "Odometer        1\n",
      "Distance        1\n",
      "Unit            1\n",
      "MPG             1\n",
      "dtype: int64\n"
     ]
    }
   ],
   "source": [
    "print(dropped_df.isnull().sum())"
   ]
  },
  {
   "cell_type": "code",
   "execution_count": 14,
   "id": "e349faa4",
   "metadata": {},
   "outputs": [],
   "source": [
    "onedrop_dataframe = dropped_df.dropna()"
   ]
  },
  {
   "cell_type": "code",
   "execution_count": 15,
   "id": "5ce391b2",
   "metadata": {},
   "outputs": [
    {
     "data": {
      "text/plain": [
       "Number          739\n",
       "Registration    739\n",
       "Details         739\n",
       "Product         739\n",
       "Odometer        739\n",
       "Distance        739\n",
       "Unit            739\n",
       "MPG             739\n",
       "dtype: int64"
      ]
     },
     "execution_count": 15,
     "metadata": {},
     "output_type": "execute_result"
    }
   ],
   "source": [
    "onedrop_dataframe.count()"
   ]
  },
  {
   "cell_type": "code",
   "execution_count": 16,
   "id": "a7faafe9",
   "metadata": {},
   "outputs": [
    {
     "ename": "NameError",
     "evalue": "name 'onedropped_dataframe' is not defined",
     "output_type": "error",
     "traceback": [
      "\u001b[0;31m---------------------------------------------------------------------------\u001b[0m",
      "\u001b[0;31mNameError\u001b[0m                                 Traceback (most recent call last)",
      "\u001b[0;32m<ipython-input-16-59d151ca443e>\u001b[0m in \u001b[0;36m<module>\u001b[0;34m\u001b[0m\n\u001b[0;32m----> 1\u001b[0;31m \u001b[0mprint\u001b[0m\u001b[0;34m(\u001b[0m\u001b[0monedropped_dataframe\u001b[0m\u001b[0;34m.\u001b[0m\u001b[0misnull\u001b[0m\u001b[0;34m(\u001b[0m\u001b[0;34m)\u001b[0m\u001b[0;34m.\u001b[0m\u001b[0msum\u001b[0m\u001b[0;34m(\u001b[0m\u001b[0;34m)\u001b[0m\u001b[0;34m)\u001b[0m\u001b[0;34m\u001b[0m\u001b[0;34m\u001b[0m\u001b[0m\n\u001b[0m",
      "\u001b[0;31mNameError\u001b[0m: name 'onedropped_dataframe' is not defined"
     ]
    }
   ],
   "source": [
    "print(onedropped_dataframe.isnull().sum())"
   ]
  },
  {
   "cell_type": "code",
   "execution_count": 17,
   "id": "8faeaf36",
   "metadata": {},
   "outputs": [
    {
     "name": "stdout",
     "output_type": "stream",
     "text": [
      "Number          0\n",
      "Registration    0\n",
      "Details         0\n",
      "Product         0\n",
      "Odometer        0\n",
      "Distance        0\n",
      "Unit            0\n",
      "MPG             0\n",
      "dtype: int64\n"
     ]
    }
   ],
   "source": [
    "print(onedrop_dataframe.isnull().sum())"
   ]
  },
  {
   "cell_type": "code",
   "execution_count": 18,
   "id": "a142ba52",
   "metadata": {},
   "outputs": [
    {
     "ename": "NameError",
     "evalue": "name 'onedrope_dataframe' is not defined",
     "output_type": "error",
     "traceback": [
      "\u001b[0;31m---------------------------------------------------------------------------\u001b[0m",
      "\u001b[0;31mNameError\u001b[0m                                 Traceback (most recent call last)",
      "\u001b[0;32m<ipython-input-18-f31b8ca7760c>\u001b[0m in \u001b[0;36m<module>\u001b[0;34m\u001b[0m\n\u001b[0;32m----> 1\u001b[0;31m \u001b[0msns\u001b[0m\u001b[0;34m.\u001b[0m\u001b[0mboxplot\u001b[0m\u001b[0;34m(\u001b[0m\u001b[0mx\u001b[0m\u001b[0;34m=\u001b[0m\u001b[0monedrope_dataframe\u001b[0m\u001b[0;34m[\u001b[0m\u001b[0;34m\"Odometer\"\u001b[0m\u001b[0;34m]\u001b[0m\u001b[0;34m)\u001b[0m\u001b[0;34m\u001b[0m\u001b[0;34m\u001b[0m\u001b[0m\n\u001b[0m",
      "\u001b[0;31mNameError\u001b[0m: name 'onedrope_dataframe' is not defined"
     ]
    }
   ],
   "source": [
    "sns.boxplot(x=onedrope_dataframe[\"Odometer\"])"
   ]
  },
  {
   "cell_type": "code",
   "execution_count": 19,
   "id": "45f12500",
   "metadata": {},
   "outputs": [
    {
     "data": {
      "text/plain": [
       "<AxesSubplot:xlabel='Odometer'>"
      ]
     },
     "execution_count": 19,
     "metadata": {},
     "output_type": "execute_result"
    },
    {
     "data": {
      "image/png": "[encoded data removed]",
      "text/plain": [
       "<Figure size 432x288 with 1 Axes>"
      ]
     },
     "metadata": {},
     "output_type": "display_data"
    }
   ],
   "source": [
    "sns.boxplot(x=onedrop_dataframe[\"Odometer\"])"
   ]
  },
  {
   "cell_type": "code",
   "execution_count": 20,
   "id": "b526564a",
   "metadata": {},
   "outputs": [
    {
     "data": {
      "text/plain": [
       "<AxesSubplot:xlabel='Distance'>"
      ]
     },
     "execution_count": 20,
     "metadata": {},
     "output_type": "execute_result"
    },
    {
     "data": {
      "image/png": "[encoded data removed]",
      "text/plain": [
       "<Figure size 432x288 with 1 Axes>"
      ]
     },
     "metadata": {},
     "output_type": "display_data"
    }
   ],
   "source": [
    "sns.boxplot(x=onedrop_dataframe[\"Distance\"])"
   ]
  },
  {
   "cell_type": "code",
   "execution_count": 21,
   "id": "d4aca227",
   "metadata": {},
   "outputs": [
    {
     "ename": "SyntaxError",
     "evalue": "invalid syntax (<ipython-input-21-c8fa6c131ea3>, line 1)",
     "output_type": "error",
     "traceback": [
      "\u001b[0;36m  File \u001b[0;32m\"<ipython-input-21-c8fa6c131ea3>\"\u001b[0;36m, line \u001b[0;32m1\u001b[0m\n\u001b[0;31m    //Quantile Stats//\u001b[0m\n\u001b[0m    ^\u001b[0m\n\u001b[0;31mSyntaxError\u001b[0m\u001b[0;31m:\u001b[0m invalid syntax\n"
     ]
    }
   ],
   "source": [
    "//Quantile Stats//"
   ]
  },
  {
   "cell_type": "code",
   "execution_count": 22,
   "id": "18754f49",
   "metadata": {},
   "outputs": [
    {
     "ename": "SyntaxError",
     "evalue": "invalid syntax (<ipython-input-22-df78fd23ab8f>, line 1)",
     "output_type": "error",
     "traceback": [
      "\u001b[0;36m  File \u001b[0;32m\"<ipython-input-22-df78fd23ab8f>\"\u001b[0;36m, line \u001b[0;32m1\u001b[0m\n\u001b[0;31m    //Quantile Stats\u001b[0m\n\u001b[0m    ^\u001b[0m\n\u001b[0;31mSyntaxError\u001b[0m\u001b[0;31m:\u001b[0m invalid syntax\n"
     ]
    }
   ],
   "source": [
    "//Quantile Stats\n"
   ]
  },
  {
   "cell_type": "markdown",
   "id": "3f7123f1",
   "metadata": {},
   "source": [
    "# Quantile Stats"
   ]
  },
  {
   "cell_type": "code",
   "execution_count": 23,
   "id": "d9a32709",
   "metadata": {},
   "outputs": [
    {
     "name": "stdout",
     "output_type": "stream",
     "text": [
      "Odometer    36779.500\n",
      "Distance     5567.500\n",
      "MPG            15.535\n",
      "dtype: float64\n"
     ]
    }
   ],
   "source": [
    "q1 = onedrop_dataframe.quantile(0.25)\n",
    "q3 = onedrop_dataframe.quantile(0.75)\n",
    "IQR = q3 - q1\n",
    "print(IQR)"
   ]
  },
  {
   "cell_type": "code",
   "execution_count": null,
   "id": "af684df3",
   "metadata": {},
   "outputs": [],
   "source": []
  }
 ],
 "metadata": {
  "kernelspec": {
   "display_name": "Python 3",
   "language": "python",
   "name": "python3"
  },
  "language_info": {
   "codemirror_mode": {
    "name": "ipython",
    "version": 3
   },
   "file_extension": ".py",
   "mimetype": "text/x-python",
   "name": "python",
   "nbconvert_exporter": "python",
   "pygments_lexer": "ipython3",
   "version": "3.8.8"
  }
 },
 "nbformat": 4,
 "nbformat_minor": 5
}
